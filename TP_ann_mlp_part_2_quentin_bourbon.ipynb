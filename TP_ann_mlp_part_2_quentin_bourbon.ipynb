{
  "nbformat": 4,
  "nbformat_minor": 0,
  "metadata": {
    "kernelspec": {
      "display_name": "Python 3",
      "language": "python",
      "name": "python3"
    },
    "language_info": {
      "codemirror_mode": {
        "name": "ipython",
        "version": 3
      },
      "file_extension": ".py",
      "mimetype": "text/x-python",
      "name": "python",
      "nbconvert_exporter": "python",
      "pygments_lexer": "ipython3",
      "version": "3.7.5"
    },
    "colab": {
      "provenance": []
    },
    "accelerator": "GPU"
  },
  "cells": [
    {
      "cell_type": "markdown",
      "metadata": {
        "id": "RIjFqlgERHAq"
      },
      "source": [
        "# IMA-205\n",
        "# TP ANN (part B)\n",
        "\n",
        "## Coding a Multi-Layer Perceptron with Tensorflow\n",
        "Author : Alasdair Newson"
      ]
    },
    {
      "cell_type": "markdown",
      "metadata": {
        "id": "oG_lwX5GRHAs"
      },
      "source": [
        "In the second part of this TP, we will be looking at the Multi-Layer Perceptron (MLP) using Tensorflow (http://www.tensorflow.org)\n",
        "\n",
        "We will be using the following packages :\n",
        "   \n",
        "   - Scikit-learn (http://scikit-learn.org/)\n",
        "   - Tensorflow (http://www.tensorflow.org)\n",
        "\n",
        "The following commands will make sure that you have all the necessary packages"
      ]
    },
    {
      "cell_type": "code",
      "metadata": {
        "id": "sCGFw05kRHAs",
        "colab": {
          "base_uri": "https://localhost:8080/"
        },
        "outputId": "d835899e-0fc0-4f75-8b12-f1354d8515c4"
      },
      "source": [
        "%matplotlib inline                      \n",
        "\n",
        "import numpy as np\n",
        "import matplotlib.pyplot as plt\n",
        "import os\n",
        "import pdb\n",
        "\n",
        "import sklearn  # scikit-learn\n",
        "import tensorflow as tf\n",
        "\n",
        "# import tensorflow models\n",
        "from tensorflow.keras.models import Sequential, Model\n",
        "from tensorflow.keras.layers import Dense, Dropout, Activation, Flatten, Input\n",
        "from tensorflow.keras.layers import Conv2D, MaxPooling2D\n",
        "from tensorflow.keras import optimizers\n",
        "from tensorflow.keras.losses import BinaryCrossentropy\n",
        "from tensorflow.keras.losses import CategoricalCrossentropy\n",
        "print(tf.keras.__version__)"
      ],
      "execution_count": 16,
      "outputs": [
        {
          "output_type": "stream",
          "name": "stdout",
          "text": [
            "2.12.0\n"
          ]
        }
      ]
    },
    {
      "cell_type": "markdown",
      "metadata": {
        "id": "dxgAcMrMRHAt"
      },
      "source": [
        "# 1 - Multi-Layer Perceptron with Tensorflow"
      ]
    },
    {
      "cell_type": "markdown",
      "metadata": {
        "id": "OjK-B5mkRHAt"
      },
      "source": [
        "## Introduction to TensorFlow"
      ]
    },
    {
      "cell_type": "markdown",
      "metadata": {
        "id": "gzVmdesCRHAu"
      },
      "source": [
        "Tensorflow is an environment written by Google which allows easy implementation of deep neural networks. In particular, it provides automatic differentiation so that the user does not have to determine gradients manually, which can be extremely long even for simple networks, as you have seen in the previous TP*.\n",
        "\n",
        "This, in turn allows a user to apply techniques such as stochastic gradient descent for training purposes. The differentiation graph is created symbolically when the network is created. Since a neural network is simply a cascade (or concatenation) of simple functions, the network in Tensorflow is simply a sequence of functions which are applied to one or several variables. The output of the final function is the output of the network.\n",
        "\n",
        "For instance, if the input were ```x``` and the network consisted of two functions ```a``` and ```b```, you could create the network simply by writing :\n",
        "\n",
        "```y = b(a(x))```\n",
        "\n",
        "However, it is clear that these functions and variables must be of some special type, so that the computer can figure out how to carry out the automatic differentiation for training. Tensorflow provides these functions and variables, which must be created with the Tensorflow package.\n",
        "\n",
        "Previously, Tensorflow required a strict separation between the creation (declaration) of variables and their execution (giving a numerical value, using the ```Session``` function). With Keras and Tensorflow 2, this separation has been removed, and the language has become simpler, in particular for creating and training networks.\n",
        "\n",
        "## Creating a network\n",
        "\n",
        "To create a network, there are two (main) methods :\n",
        "\n",
        "### Creating a model using the Sequential API\n",
        "\n",
        "Tensorflow has a simple way of adding layers to create a neural network. First, you can indicate to Tensorflow that the model is 'sequential' (a simple model, with not many tweaks). For this, you can use the following function :\n",
        "- ```model = Sequential()```\n",
        "\n",
        "After this, you can add layers with the function.\n",
        "\n",
        "- ```model.add()```\n",
        "\n",
        "You can then use the ```Dense``` (and other) functions to specify different layer types.  __Note that in the case of this approach, you will have to specify the input image size in the first layer of the network, inside the first layer function.__ So, for example, if the first layer is a dense layer with a relu activation, with n_out output neurons, and n_input neurons :\n",
        "\n",
        "- model = Sequential()\n",
        "- model.add(Dense(n_out,activation,input_shape=(n_in,),activation='relu'))\n",
        "\n",
        "Otherwise, the network does not know how many weights to create. __Be careful of this special case (the first layer)__ \n",
        "\n",
        "### Creating a model using the standard API\n",
        "\n",
        "Otherwise, another approach to creating the model is to explicitly create the input variable, and just cascade the different functions, as in Tensorflow. So, for the same example, we would have :\n",
        "\n",
        "- input = Input(shape=(n_in,))\n",
        "- output = Dense(n_in,n_out,activation='relu')(input)\n",
        "- model = Model(input, output)\n",
        "\n",
        "\n",
        "For now, let's use the Sequential API (however, if you want to try the standard API, go ahead).\n",
        "\n",
        "## Training and testing a network\n",
        "\n",
        "Tensorflow allows the easy training of a network with the following functions :\n",
        "\n",
        "- model.compile(loss='binary_crossentropy', optimizer=optimizers.Adam(lr=learning_rate)) : create the loss function and define the optimiser used. This function can do many other useful things (such as specifying different metrics to look at the model's performance\n",
        "\n",
        "- model.fit(...) : train the model\n",
        "- model.evaluate(...) : test the model\n",
        "- model.predict(...) : carry out a simple forward pass on the model\n",
        "\n",
        "Please look at the Tensorflow documenation for further details on these functions.\n"
      ]
    },
    {
      "cell_type": "markdown",
      "metadata": {
        "id": "UYFxzt5mRHAy"
      },
      "source": [
        "# MLP with TensorFlow\n",
        "\n",
        "We are now going to create an MLP with tensorflow. We will start with an MLP with one hidden layer. The network should consist of the following operations, in the following order :\n",
        "\n",
        "- Fully connected layer, with 50 output neurons\n",
        "- ReLU activation\n",
        "- Fully connected layer, with 50 output neurons\n",
        "- ReLU activation\n",
        "- Fully connected layer, with 1 output neuron (because we have a binary classification problem)\n",
        "- Sigmoid output activation\n",
        "\n",
        "We are going to be solving a binary classification \n",
        "problem, so the output of the network should be a scalar between 0 and 1 (thus the last layer is a Sigmoid activation).\n",
        "\n",
        "The loss function should be defined as the binary cross-entropy between the predicted class and the true class\n"
      ]
    },
    {
      "cell_type": "markdown",
      "metadata": {
        "id": "jdGVzE6NRHAy"
      },
      "source": [
        "First, we load the data."
      ]
    },
    {
      "cell_type": "code",
      "metadata": {
        "id": "EfiJwuLmRHAy",
        "colab": {
          "base_uri": "https://localhost:8080/",
          "height": 430
        },
        "outputId": "910e3e25-4a08-414f-9897-7f624c9cd379"
      },
      "source": [
        "from sklearn import datasets\n",
        "from sklearn.preprocessing import MinMaxScaler\n",
        "from sklearn.model_selection import train_test_split\n",
        "\n",
        "X, Y = datasets.make_circles(n_samples=1000, noise=0.05, factor=0.5)\n",
        "# X, y = datasets.make_moons(n_samples=1000, random_state=42)  # try with 2 moons\n",
        "X = MinMaxScaler().fit_transform(X)\n",
        "\n",
        "#show data in plot\n",
        "plt.plot(X[Y == 1, 0], X[Y == 1, 1], 'ro')\n",
        "plt.plot(X[Y == 0, 0], X[Y == 0, 1], 'bo')\n",
        "plt.grid('on')"
      ],
      "execution_count": 2,
      "outputs": [
        {
          "output_type": "display_data",
          "data": {
            "text/plain": [
              "<Figure size 640x480 with 1 Axes>"
            ],
            "image/png": "[encoded data removed]"
          },
          "metadata": {}
        }
      ]
    },
    {
      "cell_type": "markdown",
      "metadata": {
        "id": "cRL1c6UyRHAy"
      },
      "source": [
        "We are now going to define some useful auxillary functions.\n",
        "\n",
        "First, a function that shows the decision boundary of our network. This works only for 2D input data"
      ]
    },
    {
      "cell_type": "code",
      "metadata": {
        "id": "x0cUhY8xRHAz"
      },
      "source": [
        "# THIS CODE IS GIVEN\n",
        "\n",
        "def plot_decision_function_2d(model_mlp, X, Y):\n",
        "   # create a mesh to plot in\n",
        "    h = .02  # step size in the mesh\n",
        "    offset = 0.1\n",
        "    x_min, x_max = X[:, 0].min() - offset, X[:, 0].max() + offset\n",
        "    y_min, y_max = X[:, 1].min() - offset, X[:, 1].max() + offset\n",
        "    xx, yy = np.meshgrid(np.arange(x_min, x_max, h),\n",
        "                         np.arange(y_min, y_max, h))\n",
        "\n",
        "    # Plot the decision boundary. For that, we will assign a color to each\n",
        "    # point in the mesh [x_min, x_max]x[y_min, y_max].\n",
        "    Z = model_mlp.predict(np.c_[xx.ravel(), yy.ravel()])\n",
        "    print(Z.shape)\n",
        "    print(Z)\n",
        "    \n",
        "    Z = Z<0.5\n",
        "    # Put the result into a color plot\n",
        "    Z = Z.reshape(xx.shape)\n",
        "    plt.figure()\n",
        "    plt.contourf(xx, yy, Z, cmap=plt.cm.Paired)\n",
        "\n",
        "    plt.plot(X[Y == 1, 0], X[Y == 1, 1], 'yo')\n",
        "    plt.plot(X[Y == 0, 0], X[Y == 0, 1], 'ko')\n",
        "\n",
        "    plt.title(\"Decision surface\")\n",
        "    plt.axis('tight')"
      ],
      "execution_count": 3,
      "outputs": []
    },
    {
      "cell_type": "markdown",
      "metadata": {
        "id": "CKtZJ5iQRHA0"
      },
      "source": [
        "## CREATING AND TRAINING THE MODEL\n",
        "\n",
        "We are now ready to create our network with a Tensorflow Session and to carry out training on our training dataset."
      ]
    },
    {
      "cell_type": "code",
      "metadata": {
        "id": "WO8dHtrGRHA0",
        "colab": {
          "base_uri": "https://localhost:8080/"
        },
        "outputId": "5d455a22-a8e9-4acb-b635-7f50c32ba620"
      },
      "source": [
        "# FILL IN CODE BY STUDENTS IN THIS SECTION\n",
        "\n",
        "#We split up the data into training and test data, using a function from Scikit-learn :\n",
        "X_train, X_test, Y_train, Y_test = train_test_split(X, Y, test_size=0.15)\n",
        "print(X_train.shape)\n",
        "\n",
        "# Layer sizes\n",
        "n_input = X.shape[1]  # Number of input features\n",
        "n_hidden = 50  # Number of hidden nodes\n",
        "\n",
        "# create the model (using the sequential API)\n",
        "\n",
        "model_mlp = Sequential()   # FILL IN STUDENTS\n",
        "model_mlp.add(Dense(n_hidden, activation='relu', input_shape=(n_input,)))\n",
        "model_mlp.add(Dense(n_hidden, activation='relu', input_shape=(n_hidden,)))\n",
        "model_mlp.add(Dense(1, activation='sigmoid', input_shape=(n_hidden,)))\n",
        "\n",
        "\n",
        "# create the loss and optimiser\n",
        "learning_rate = 0.01\n",
        "model_mlp.compile(loss=BinaryCrossentropy(), optimizer=optimizers.Adam(learning_rate=0.01),metrics=[\"accuracy\"]) # TO FILL IN\n",
        "\n",
        "# Run optimisation algorithm\n",
        "n_epochs = 20\n",
        "batch_size = 64\n",
        "\n",
        "print('Training')\n",
        "model_mlp.fit(X_train, Y_train, epochs=n_epochs,batch_size=batch_size) # TO FILL IN\n",
        "\n",
        "print('Testing')\n",
        "model_mlp.evaluate(X_test, Y_test, verbose=2) # TO FILL IN"
      ],
      "execution_count": 10,
      "outputs": [
        {
          "output_type": "stream",
          "name": "stdout",
          "text": [
            "(850, 2)\n",
            "Training\n",
            "Epoch 1/20\n",
            "14/14 [==============================] - 1s 4ms/step - loss: 0.6571 - accuracy: 0.6176\n",
            "Epoch 2/20\n",
            "14/14 [==============================] - 0s 3ms/step - loss: 0.5735 - accuracy: 0.7541\n",
            "Epoch 3/20\n",
            "14/14 [==============================] - 0s 3ms/step - loss: 0.4871 - accuracy: 0.7776\n",
            "Epoch 4/20\n",
            "14/14 [==============================] - 0s 3ms/step - loss: 0.3987 - accuracy: 0.8424\n",
            "Epoch 5/20\n",
            "14/14 [==============================] - 0s 4ms/step - loss: 0.2886 - accuracy: 0.8906\n",
            "Epoch 6/20\n",
            "14/14 [==============================] - 0s 4ms/step - loss: 0.1728 - accuracy: 0.9682\n",
            "Epoch 7/20\n",
            "14/14 [==============================] - 0s 4ms/step - loss: 0.0723 - accuracy: 1.0000\n",
            "Epoch 8/20\n",
            "14/14 [==============================] - 0s 5ms/step - loss: 0.0327 - accuracy: 1.0000\n",
            "Epoch 9/20\n",
            "14/14 [==============================] - 0s 4ms/step - loss: 0.0182 - accuracy: 1.0000\n",
            "Epoch 10/20\n",
            "14/14 [==============================] - 0s 3ms/step - loss: 0.0110 - accuracy: 1.0000\n",
            "Epoch 11/20\n",
            "14/14 [==============================] - 0s 3ms/step - loss: 0.0073 - accuracy: 1.0000\n",
            "Epoch 12/20\n",
            "14/14 [==============================] - 0s 4ms/step - loss: 0.0058 - accuracy: 1.0000\n",
            "Epoch 13/20\n",
            "14/14 [==============================] - 0s 3ms/step - loss: 0.0046 - accuracy: 1.0000\n",
            "Epoch 14/20\n",
            "14/14 [==============================] - 0s 3ms/step - loss: 0.0036 - accuracy: 1.0000\n",
            "Epoch 15/20\n",
            "14/14 [==============================] - 0s 4ms/step - loss: 0.0031 - accuracy: 1.0000\n",
            "Epoch 16/20\n",
            "14/14 [==============================] - 0s 4ms/step - loss: 0.0026 - accuracy: 1.0000\n",
            "Epoch 17/20\n",
            "14/14 [==============================] - 0s 4ms/step - loss: 0.0022 - accuracy: 1.0000\n",
            "Epoch 18/20\n",
            "14/14 [==============================] - 0s 3ms/step - loss: 0.0025 - accuracy: 1.0000\n",
            "Epoch 19/20\n",
            "14/14 [==============================] - 0s 3ms/step - loss: 0.0018 - accuracy: 1.0000\n",
            "Epoch 20/20\n",
            "14/14 [==============================] - 0s 3ms/step - loss: 0.0015 - accuracy: 1.0000\n",
            "Testing\n",
            "5/5 - 0s - loss: 0.0022 - accuracy: 1.0000 - 134ms/epoch - 27ms/step\n"
          ]
        },
        {
          "output_type": "execute_result",
          "data": {
            "text/plain": [
              "[0.002184380078688264, 1.0]"
            ]
          },
          "metadata": {},
          "execution_count": 10
        }
      ]
    },
    {
      "cell_type": "code",
      "metadata": {
        "id": "lpBaU1rcc0oY",
        "colab": {
          "base_uri": "https://localhost:8080/",
          "height": 608
        },
        "outputId": "76fa3276-5b4f-47d1-f937-3d4588d7e1cc"
      },
      "source": [
        "plot_decision_function_2d(model_mlp, X_test, Y_test)"
      ],
      "execution_count": 11,
      "outputs": [
        {
          "output_type": "stream",
          "name": "stdout",
          "text": [
            "106/106 [==============================] - 0s 2ms/step\n",
            "(3363, 1)\n",
            "[[5.0373754e-17]\n",
            " [1.2031690e-16]\n",
            " [2.8737499e-16]\n",
            " ...\n",
            " [5.1802913e-11]\n",
            " [2.0246459e-11]\n",
            " [7.9130816e-12]]\n"
          ]
        },
        {
          "output_type": "display_data",
          "data": {
            "text/plain": [
              "<Figure size 640x480 with 1 Axes>"
            ],
            "image/png": "[encoded data removed]"
          },
          "metadata": {}
        }
      ]
    },
    {
      "cell_type": "markdown",
      "metadata": {
        "id": "6oni6Q5vRHA0"
      },
      "source": [
        "# MLP with several hidden layers\n",
        "\n",
        "We are now going to create an MLP with more hidden layers. We are going to use a more complicated dataset : the MNIST dataset, which contains images of handwritten digits. There are 10 classes, one for each digit.\n",
        "\n",
        "We are going to implement the following architecture :\n",
        "\n",
        "- Fully connected layer\n",
        "- Relu activation\n",
        "- Fully connected layer\n",
        "- Relu activation\n",
        "- Fully connected layer\n",
        "- Relu activation\n",
        "- Fully connected layer\n",
        "- Softmax output activation\n",
        "\n",
        "__IMPORTANT Note__ The sigmoid layer has been replaced by a softmax layer (at the end). This is normal, since we have a multi-class problem.\n",
        "\n",
        "\n",
        "First, we load the MNIST dataset."
      ]
    },
    {
      "cell_type": "code",
      "metadata": {
        "id": "Z0cGLMKRRHA0"
      },
      "source": [
        "# Import MNIST data\n",
        "mnist = tf.keras.datasets.mnist\n",
        "(X_train, y_train),(X_test, y_test) = mnist.load_data()\n",
        "\n",
        "Y_train = tf.keras.utils.to_categorical(y_train)  # in order to convert y to a matrix with (num_examples, num_classes) (one-hot encoding)\n",
        "Y_test = tf.keras.utils.to_categorical(y_test)  # in order to convert y to a matrix with (num_examples, num_classes) (one-hot encoding)\n",
        "\n",
        "#reshape the input images : flatten the last two dimensions\n",
        "X_train = np.reshape(X_train,(X_train.shape[0],X_train.shape[1]*X_train.shape[2]))\n",
        "X_test = np.reshape(X_test,(X_test.shape[0],X_test.shape[1]*X_test.shape[2]))\n"
      ],
      "execution_count": 26,
      "outputs": []
    },
    {
      "cell_type": "markdown",
      "metadata": {
        "id": "EzMV_9-NRHA1"
      },
      "source": [
        "Finally, fill in the following code to create and train your MLP"
      ]
    },
    {
      "cell_type": "code",
      "metadata": {
        "id": "2G7AToqyRHA1",
        "colab": {
          "base_uri": "https://localhost:8080/"
        },
        "outputId": "6a667ab0-07c1-4923-c22c-8def2ed9a160"
      },
      "source": [
        "\n",
        "# Network Parameters\n",
        "n_hidden_1 = 256 # 1st layer number of neurons\n",
        "n_hidden_2 = 256 # 2nd layer number of neurons\n",
        "n_hidden_3 = 128 # 2nd layer number of neurons\n",
        "\n",
        "n_input = X_train.shape[1]\n",
        "n_classes = Y_train.shape[1] # MNIST total classes (0-9 digits)\n",
        "\n",
        "# TO CODE BY STUDENTS\n",
        "\n",
        "\n",
        "model_mlp_multi_layer = Sequential()\n",
        "model_mlp_multi_layer.add(Dense(n_hidden_1, activation='relu', input_shape=(n_input,)))\n",
        "model_mlp_multi_layer.add(Dense(n_hidden_2, activation='relu'))\n",
        "model_mlp_multi_layer.add(Dense(n_hidden_3, activation='relu'))\n",
        "model_mlp_multi_layer.add(Dense(n_classes, activation='softmax'))\n",
        "\n",
        "# create the loss and optimiser\n",
        "learning_rate = 0.01\n",
        "model_mlp_multi_layer.compile(loss=CategoricalCrossentropy(), optimizer=optimizers.Adam(lr=0.01),metrics=[\"accuracy\"]) # TO FILL IN\n",
        "\n",
        "# Run optimisation algorithm\n",
        "n_epochs = 20\n",
        "batch_size = 64\n",
        "\n",
        "print('Training')\n",
        "model_mlp_multi_layer.fit(X_train, Y_train, epochs=n_epochs,batch_size=batch_size) # TO FILL IN\n",
        "\n",
        "print('Testing')\n",
        "model_mlp_multi_layer.evaluate(X_test, Y_test, verbose=2) # TO FILL IN"
      ],
      "execution_count": 34,
      "outputs": [
        {
          "output_type": "stream",
          "name": "stderr",
          "text": [
            "WARNING:absl:`lr` is deprecated in Keras optimizer, please use `learning_rate` or use the legacy optimizer, e.g.,tf.keras.optimizers.legacy.Adam.\n"
          ]
        },
        {
          "output_type": "stream",
          "name": "stdout",
          "text": [
            "Training\n",
            "Epoch 1/20\n",
            "938/938 [==============================] - 5s 3ms/step - loss: 1.1915 - accuracy: 0.8866\n",
            "Epoch 2/20\n",
            "938/938 [==============================] - 3s 4ms/step - loss: 0.2077 - accuracy: 0.9465\n",
            "Epoch 3/20\n",
            "938/938 [==============================] - 4s 4ms/step - loss: 0.1346 - accuracy: 0.9615\n",
            "Epoch 4/20\n",
            "938/938 [==============================] - 3s 3ms/step - loss: 0.1177 - accuracy: 0.9664\n",
            "Epoch 5/20\n",
            "938/938 [==============================] - 3s 3ms/step - loss: 0.1053 - accuracy: 0.9691\n",
            "Epoch 6/20\n",
            "938/938 [==============================] - 4s 4ms/step - loss: 0.0936 - accuracy: 0.9724\n",
            "Epoch 7/20\n",
            "938/938 [==============================] - 4s 4ms/step - loss: 0.0861 - accuracy: 0.9750\n",
            "Epoch 8/20\n",
            "938/938 [==============================] - 3s 3ms/step - loss: 0.0764 - accuracy: 0.9770\n",
            "Epoch 9/20\n",
            "938/938 [==============================] - 3s 4ms/step - loss: 0.0733 - accuracy: 0.9787\n",
            "Epoch 10/20\n",
            "938/938 [==============================] - 4s 4ms/step - loss: 0.0627 - accuracy: 0.9824\n",
            "Epoch 11/20\n",
            "938/938 [==============================] - 3s 4ms/step - loss: 0.0566 - accuracy: 0.9833\n",
            "Epoch 12/20\n",
            "938/938 [==============================] - 3s 4ms/step - loss: 0.0615 - accuracy: 0.9829\n",
            "Epoch 13/20\n",
            "938/938 [==============================] - 4s 4ms/step - loss: 0.0518 - accuracy: 0.9855\n",
            "Epoch 14/20\n",
            "938/938 [==============================] - 4s 4ms/step - loss: 0.0516 - accuracy: 0.9855\n",
            "Epoch 15/20\n",
            "938/938 [==============================] - 3s 4ms/step - loss: 0.0480 - accuracy: 0.9865\n",
            "Epoch 16/20\n",
            "938/938 [==============================] - 3s 3ms/step - loss: 0.0510 - accuracy: 0.9869\n",
            "Epoch 17/20\n",
            "938/938 [==============================] - 4s 4ms/step - loss: 0.0391 - accuracy: 0.9894\n",
            "Epoch 18/20\n",
            "938/938 [==============================] - 3s 3ms/step - loss: 0.0387 - accuracy: 0.9895\n",
            "Epoch 19/20\n",
            "938/938 [==============================] - 3s 3ms/step - loss: 0.0393 - accuracy: 0.9894\n",
            "Epoch 20/20\n",
            "938/938 [==============================] - 4s 4ms/step - loss: 0.0343 - accuracy: 0.9911\n",
            "Testing\n",
            "313/313 - 1s - loss: 0.1414 - accuracy: 0.9718 - 1s/epoch - 4ms/step\n"
          ]
        },
        {
          "output_type": "execute_result",
          "data": {
            "text/plain": [
              "[0.14138023555278778, 0.9718000292778015]"
            ]
          },
          "metadata": {},
          "execution_count": 34
        }
      ]
    },
    {
      "cell_type": "code",
      "metadata": {
        "id": "s6Q-JntxluxG"
      },
      "source": [
        "# THIS CODE IS GIVEN\n",
        "\n",
        "def test_mnist_images(model_mlp_multi_layer,X_test):\n",
        "  plt.figure(figsize=(10, 6))\n",
        "  for idx in range(0,10):\n",
        "      plt.subplot(2, 5, idx+1)\n",
        "      rand_ind = np.random.randint(0,X_test.shape[0])\n",
        "      plt.imshow(np.reshape(X_test[rand_ind,:],(28,28)),cmap='gray')\n",
        "      # get prediction\n",
        "      model_prediction = np.argmax(model_mlp_multi_layer.predict(np.expand_dims( X_test[rand_ind,:], axis=0)),axis=1)\n",
        "      plt.title(int(model_prediction))"
      ],
      "execution_count": 30,
      "outputs": []
    },
    {
      "cell_type": "code",
      "metadata": {
        "id": "r2D9RE4apVWW",
        "colab": {
          "base_uri": "https://localhost:8080/",
          "height": 642
        },
        "outputId": "6adc14e0-4b16-4a2b-9aea-8abfa3caac04"
      },
      "source": [
        "test_mnist_images(model_mlp_multi_layer,X_test)"
      ],
      "execution_count": 35,
      "outputs": [
        {
          "output_type": "stream",
          "name": "stdout",
          "text": [
            "1/1 [==============================] - 0s 57ms/step\n",
            "1/1 [==============================] - 0s 18ms/step\n",
            "1/1 [==============================] - 0s 21ms/step\n",
            "1/1 [==============================] - 0s 18ms/step\n",
            "1/1 [==============================] - 0s 21ms/step\n",
            "1/1 [==============================] - 0s 19ms/step\n",
            "1/1 [==============================] - 0s 19ms/step\n",
            "1/1 [==============================] - 0s 22ms/step\n",
            "1/1 [==============================] - 0s 21ms/step\n",
            "1/1 [==============================] - 0s 17ms/step\n"
          ]
        },
        {
          "output_type": "display_data",
          "data": {
            "text/plain": [
              "<Figure size 1000x600 with 10 Axes>"
            ],
            "image/png": "[encoded data removed]"
          },
          "metadata": {}
        }
      ]
    },
    {
      "cell_type": "markdown",
      "metadata": {
        "id": "lItdBVnfu7xK"
      },
      "source": [
        "You may observe some difficulties in getting good performance in this case. To improve training, we can turn to __batch_normalisation__ and __regularisation__"
      ]
    },
    {
      "cell_type": "markdown",
      "metadata": {
        "id": "Vgao_U5XRHA2"
      },
      "source": [
        "## BATCH NORMALISATION\n",
        "\n",
        "One approach to improving the convergence of neural network training which we have seen during the lesson is known as batch normalisation, which we have seen during the lesson. This can be implemented very simply in Tensorflow by adding the following layer :\n",
        "\n",
        "- ```BatchNormalization()```\n",
        "\n",
        "Change your model below, and implement this using your code above"
      ]
    },
    {
      "cell_type": "code",
      "metadata": {
        "id": "6Ela5-4XRHA2",
        "colab": {
          "base_uri": "https://localhost:8080/"
        },
        "outputId": "4bcae7ff-7b8b-43b1-c987-c52f717bb0b8"
      },
      "source": [
        "from tensorflow.keras.layers import Dense, BatchNormalization\n",
        "\n",
        "# TO CODE BY STUDENTS\n",
        "\n",
        "# Network Parameters\n",
        "n_hidden_1 = 256 # 1st layer number of neurons\n",
        "n_hidden_2 = 256 # 2nd layer number of neurons\n",
        "n_hidden_3 = 128 # 2nd layer number of neurons\n",
        "\n",
        "n_input = X_train.shape[1]\n",
        "n_classes = Y_train.shape[1] # MNIST total classes (0-9 digits)\n",
        "\n",
        "# TO CODE BY STUDENTS\n",
        "\n",
        "\n",
        "model_mlp_multi_layer = Sequential()\n",
        "model_mlp_multi_layer.add(Dense(n_hidden_1, activation='relu', input_shape=(n_input,)))\n",
        "model_mlp_multi_layer.add(BatchNormalization())\n",
        "model_mlp_multi_layer.add(Dense(n_hidden_2, activation='relu'))\n",
        "model_mlp_multi_layer.add(BatchNormalization())\n",
        "model_mlp_multi_layer.add(Dense(n_hidden_3, activation='relu'))\n",
        "model_mlp_multi_layer.add(BatchNormalization())\n",
        "model_mlp_multi_layer.add(Dense(n_classes, activation='softmax'))\n",
        "\n",
        "# create the loss and optimiser\n",
        "learning_rate = 0.01\n",
        "model_mlp_multi_layer.compile(loss=CategoricalCrossentropy(), optimizer=optimizers.Adam(learning_rate=0.01),metrics=[\"accuracy\"]) # TO FILL IN\n",
        "\n",
        "# Run optimisation algorithm\n",
        "n_epochs = 20\n",
        "batch_size = 64\n",
        "\n",
        "print('Training')\n",
        "model_mlp_multi_layer.fit(X_train, Y_train, epochs=n_epochs,batch_size=batch_size) # TO FILL IN\n",
        "\n",
        "print('Testing')\n",
        "model_mlp_multi_layer.evaluate(X_test, Y_test, verbose=2) # TO FILL IN"
      ],
      "execution_count": 32,
      "outputs": [
        {
          "output_type": "stream",
          "name": "stdout",
          "text": [
            "Training\n",
            "Epoch 1/20\n",
            "938/938 [==============================] - 10s 6ms/step - loss: 0.2277 - accuracy: 0.9293\n",
            "Epoch 2/20\n",
            "938/938 [==============================] - 6s 7ms/step - loss: 0.1244 - accuracy: 0.9617\n",
            "Epoch 3/20\n",
            "938/938 [==============================] - 6s 6ms/step - loss: 0.0981 - accuracy: 0.9697\n",
            "Epoch 4/20\n",
            "938/938 [==============================] - 6s 7ms/step - loss: 0.0829 - accuracy: 0.9740\n",
            "Epoch 5/20\n",
            "938/938 [==============================] - 6s 6ms/step - loss: 0.0743 - accuracy: 0.9769\n",
            "Epoch 6/20\n",
            "938/938 [==============================] - 6s 6ms/step - loss: 0.0640 - accuracy: 0.9801\n",
            "Epoch 7/20\n",
            "938/938 [==============================] - 6s 6ms/step - loss: 0.0553 - accuracy: 0.9822\n",
            "Epoch 8/20\n",
            "938/938 [==============================] - 6s 6ms/step - loss: 0.0497 - accuracy: 0.9839\n",
            "Epoch 9/20\n",
            "938/938 [==============================] - 7s 8ms/step - loss: 0.0471 - accuracy: 0.9849\n",
            "Epoch 10/20\n",
            "938/938 [==============================] - 6s 7ms/step - loss: 0.0421 - accuracy: 0.9863\n",
            "Epoch 11/20\n",
            "938/938 [==============================] - 6s 7ms/step - loss: 0.0389 - accuracy: 0.9877\n",
            "Epoch 12/20\n",
            "938/938 [==============================] - 6s 6ms/step - loss: 0.0371 - accuracy: 0.9882\n",
            "Epoch 13/20\n",
            "938/938 [==============================] - 6s 6ms/step - loss: 0.0333 - accuracy: 0.9895\n",
            "Epoch 14/20\n",
            "938/938 [==============================] - 6s 6ms/step - loss: 0.0293 - accuracy: 0.9907\n",
            "Epoch 15/20\n",
            "938/938 [==============================] - 6s 6ms/step - loss: 0.0275 - accuracy: 0.9909\n",
            "Epoch 16/20\n",
            "938/938 [==============================] - 6s 6ms/step - loss: 0.0286 - accuracy: 0.9912\n",
            "Epoch 17/20\n",
            "938/938 [==============================] - 6s 7ms/step - loss: 0.0252 - accuracy: 0.9918\n",
            "Epoch 18/20\n",
            "938/938 [==============================] - 6s 6ms/step - loss: 0.0247 - accuracy: 0.9924\n",
            "Epoch 19/20\n",
            "938/938 [==============================] - 6s 7ms/step - loss: 0.0237 - accuracy: 0.9919\n",
            "Epoch 20/20\n",
            "938/938 [==============================] - 6s 6ms/step - loss: 0.0209 - accuracy: 0.9931\n",
            "Testing\n",
            "313/313 - 1s - loss: 0.1197 - accuracy: 0.9813 - 1s/epoch - 5ms/step\n"
          ]
        },
        {
          "output_type": "execute_result",
          "data": {
            "text/plain": [
              "[0.11968067288398743, 0.9812999963760376]"
            ]
          },
          "metadata": {},
          "execution_count": 32
        }
      ]
    },
    {
      "cell_type": "code",
      "metadata": {
        "id": "cSxGzvQ3pg3u",
        "colab": {
          "base_uri": "https://localhost:8080/",
          "height": 642
        },
        "outputId": "98713614-25cc-4edb-f271-a12564633285"
      },
      "source": [
        "test_mnist_images(model_mlp_multi_layer,X_test)"
      ],
      "execution_count": 33,
      "outputs": [
        {
          "output_type": "stream",
          "name": "stdout",
          "text": [
            "1/1 [==============================] - 0s 225ms/step\n",
            "1/1 [==============================] - 0s 45ms/step\n",
            "1/1 [==============================] - 0s 64ms/step\n",
            "1/1 [==============================] - 0s 21ms/step\n",
            "1/1 [==============================] - 0s 19ms/step\n",
            "1/1 [==============================] - 0s 16ms/step\n",
            "1/1 [==============================] - 0s 32ms/step\n",
            "1/1 [==============================] - 0s 68ms/step\n",
            "1/1 [==============================] - 0s 29ms/step\n",
            "1/1 [==============================] - 0s 39ms/step\n"
          ]
        },
        {
          "output_type": "display_data",
          "data": {
            "text/plain": [
              "<Figure size 1000x600 with 10 Axes>"
            ],
            "image/png": "[encoded data removed]"
          },
          "metadata": {}
        }
      ]
    },
    {
      "cell_type": "markdown",
      "source": [
        "## Dropout\n",
        "\n",
        "Often in the process of training neural networks, there is a difference between the training accuracy and the testing accuracy. This is the problem of overfitting. To alleviate this problem, we can turn to _dropout_:\n",
        "\n",
        "```tf.keras.layers.Dropout(rate,...)```\n",
        "\n",
        "where rate is the probability that an input neuron to a layer will get set to 0. You can do this in any layer. Use the previous architecture and try out the dropout. Set the dropout rate to 0.1 on the first layer as a test. Then try it out on all layers (you may not see a great difference here since the mnist database is relatively simple, this is just to show you how it is done). "
      ],
      "metadata": {
        "id": "iQPJDop31Nci"
      }
    },
    {
      "cell_type": "code",
      "source": [
        "from tensorflow.keras.layers import Dense, BatchNormalization, Dropout\n",
        "\n",
        "# TO CODE BY STUDENTS\n",
        "\n",
        "# Network Parameters\n",
        "n_hidden_1 = 256 # 1st layer number of neurons\n",
        "n_hidden_2 = 256 # 2nd layer number of neurons\n",
        "n_hidden_3 = 128 # 2nd layer number of neurons\n",
        "\n",
        "n_input = X_train.shape[1]\n",
        "n_classes = Y_train.shape[1] # MNIST total classes (0-9 digits)\n",
        "\n",
        "# TO CODE BY STUDENTS\n",
        "\n",
        "\n",
        "model_mlp_multi_layer = Sequential()\n",
        "model_mlp_multi_layer.add(Dense(n_hidden_1, activation='relu', input_shape=(n_input,)))\n",
        "model_mlp_multi_layer.add(BatchNormalization())\n",
        "model_mlp_multi_layer.add(Dropout(0.1))\n",
        "model_mlp_multi_layer.add(Dense(n_hidden_2, activation='relu'))\n",
        "model_mlp_multi_layer.add(BatchNormalization())\n",
        "model_mlp_multi_layer.add(Dropout(0.1))\n",
        "model_mlp_multi_layer.add(Dense(n_hidden_3, activation='relu'))\n",
        "model_mlp_multi_layer.add(BatchNormalization())\n",
        "model_mlp_multi_layer.add(Dropout(0.1))\n",
        "model_mlp_multi_layer.add(Dense(n_classes, activation='softmax'))\n",
        "\n",
        "# create the loss and optimiser\n",
        "learning_rate = 0.01\n",
        "model_mlp_multi_layer.compile(loss=CategoricalCrossentropy(), optimizer=optimizers.Adam(learning_rate=0.01),metrics=[\"accuracy\"]) # TO FILL IN\n",
        "\n",
        "# Run optimisation algorithm\n",
        "n_epochs = 20\n",
        "batch_size = 64\n",
        "\n",
        "print('Training')\n",
        "model_mlp_multi_layer.fit(X_train, Y_train, epochs=n_epochs,batch_size=batch_size) # TO FILL IN\n",
        "\n",
        "print('Testing')\n",
        "model_mlp_multi_layer.evaluate(X_test, Y_test, verbose=2) # TO FILL IN"
      ],
      "metadata": {
        "id": "x-BF-fpo1PpW",
        "colab": {
          "base_uri": "https://localhost:8080/"
        },
        "outputId": "b09caff2-29af-4354-8257-d6ca4d0fbbb7"
      },
      "execution_count": 36,
      "outputs": [
        {
          "output_type": "stream",
          "name": "stdout",
          "text": [
            "Training\n",
            "Epoch 1/20\n",
            "938/938 [==============================] - 9s 6ms/step - loss: 0.2515 - accuracy: 0.9246\n",
            "Epoch 2/20\n",
            "938/938 [==============================] - 6s 7ms/step - loss: 0.1465 - accuracy: 0.9563\n",
            "Epoch 3/20\n",
            "938/938 [==============================] - 6s 6ms/step - loss: 0.1166 - accuracy: 0.9638\n",
            "Epoch 4/20\n",
            "938/938 [==============================] - 6s 7ms/step - loss: 0.0999 - accuracy: 0.9692\n",
            "Epoch 5/20\n",
            "938/938 [==============================] - 6s 6ms/step - loss: 0.0897 - accuracy: 0.9721\n",
            "Epoch 6/20\n",
            "938/938 [==============================] - 8s 8ms/step - loss: 0.0820 - accuracy: 0.9740\n",
            "Epoch 7/20\n",
            "938/938 [==============================] - 6s 6ms/step - loss: 0.0745 - accuracy: 0.9768\n",
            "Epoch 8/20\n",
            "938/938 [==============================] - 6s 6ms/step - loss: 0.0707 - accuracy: 0.9779\n",
            "Epoch 9/20\n",
            "938/938 [==============================] - 6s 6ms/step - loss: 0.0641 - accuracy: 0.9800\n",
            "Epoch 10/20\n",
            "938/938 [==============================] - 6s 7ms/step - loss: 0.0597 - accuracy: 0.9816\n",
            "Epoch 11/20\n",
            "938/938 [==============================] - 6s 6ms/step - loss: 0.0551 - accuracy: 0.9826\n",
            "Epoch 12/20\n",
            "938/938 [==============================] - 6s 6ms/step - loss: 0.0533 - accuracy: 0.9829\n",
            "Epoch 13/20\n",
            "938/938 [==============================] - 6s 6ms/step - loss: 0.0500 - accuracy: 0.9845\n",
            "Epoch 14/20\n",
            "938/938 [==============================] - 7s 7ms/step - loss: 0.0462 - accuracy: 0.9857\n",
            "Epoch 15/20\n",
            "938/938 [==============================] - 6s 6ms/step - loss: 0.0439 - accuracy: 0.9861\n",
            "Epoch 16/20\n",
            "938/938 [==============================] - 6s 6ms/step - loss: 0.0426 - accuracy: 0.9861\n",
            "Epoch 17/20\n",
            "938/938 [==============================] - 6s 6ms/step - loss: 0.0383 - accuracy: 0.9873\n",
            "Epoch 18/20\n",
            "938/938 [==============================] - 6s 6ms/step - loss: 0.0373 - accuracy: 0.9884\n",
            "Epoch 19/20\n",
            "938/938 [==============================] - 6s 7ms/step - loss: 0.0358 - accuracy: 0.9882\n",
            "Epoch 20/20\n",
            "938/938 [==============================] - 6s 6ms/step - loss: 0.0343 - accuracy: 0.9890\n",
            "Testing\n",
            "313/313 - 1s - loss: 0.0933 - accuracy: 0.9825 - 1s/epoch - 4ms/step\n"
          ]
        },
        {
          "output_type": "execute_result",
          "data": {
            "text/plain": [
              "[0.09325984865427017, 0.9825000166893005]"
            ]
          },
          "metadata": {},
          "execution_count": 36
        }
      ]
    },
    {
      "cell_type": "markdown",
      "metadata": {
        "id": "Y2CWgKZeRHA2"
      },
      "source": [
        "#### Documentation:\n",
        "\n",
        "  - http://www.tensorflow.org\n",
        "  - http://www.deeplearningbook.org/"
      ]
    }
  ]
}